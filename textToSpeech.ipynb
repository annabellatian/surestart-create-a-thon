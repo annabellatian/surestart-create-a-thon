{
  "nbformat": 4,
  "nbformat_minor": 0,
  "metadata": {
    "colab": {
      "name": "textToSpeech.ipynb",
      "provenance": [],
      "authorship_tag": "ABX9TyMbk0iD4OqGPnAb+R/erT/0",
      "include_colab_link": true
    },
    "kernelspec": {
      "name": "python3",
      "display_name": "Python 3"
    },
    "language_info": {
      "name": "python"
    }
  },
  "cells": [
    {
      "cell_type": "markdown",
      "metadata": {
        "id": "view-in-github",
        "colab_type": "text"
      },
      "source": [
        "<a href=\"https://colab.research.google.com/github/mferuscomelo/surestart-create-a-thon/blob/main/textToSpeech.ipynb\" target=\"_parent\"><img src=\"https://colab.research.google.com/assets/colab-badge.svg\" alt=\"Open In Colab\"/></a>"
      ]
    },
    {
      "cell_type": "code",
      "metadata": {
        "colab": {
          "base_uri": "https://localhost:8080/"
        },
        "id": "AgaWIBbhLoMN",
        "outputId": "9cee5189-f507-4b9f-8c59-1350d65161e7"
      },
      "source": [
        "!pip install gTTS"
      ],
      "execution_count": 2,
      "outputs": [
        {
          "output_type": "stream",
          "text": [
            "Collecting gTTS\n",
            "  Downloading gTTS-2.2.3-py3-none-any.whl (25 kB)\n",
            "Requirement already satisfied: click in /usr/local/lib/python3.7/dist-packages (from gTTS) (7.1.2)\n",
            "Requirement already satisfied: six in /usr/local/lib/python3.7/dist-packages (from gTTS) (1.15.0)\n",
            "Requirement already satisfied: requests in /usr/local/lib/python3.7/dist-packages (from gTTS) (2.23.0)\n",
            "Requirement already satisfied: idna<3,>=2.5 in /usr/local/lib/python3.7/dist-packages (from requests->gTTS) (2.10)\n",
            "Requirement already satisfied: chardet<4,>=3.0.2 in /usr/local/lib/python3.7/dist-packages (from requests->gTTS) (3.0.4)\n",
            "Requirement already satisfied: certifi>=2017.4.17 in /usr/local/lib/python3.7/dist-packages (from requests->gTTS) (2021.5.30)\n",
            "Requirement already satisfied: urllib3!=1.25.0,!=1.25.1,<1.26,>=1.21.1 in /usr/local/lib/python3.7/dist-packages (from requests->gTTS) (1.24.3)\n",
            "Installing collected packages: gTTS\n",
            "Successfully installed gTTS-2.2.3\n"
          ],
          "name": "stdout"
        }
      ]
    },
    {
      "cell_type": "code",
      "metadata": {
        "colab": {
          "base_uri": "https://localhost:8080/",
          "height": 75
        },
        "id": "iqVvbE4OK3D-",
        "outputId": "a750e410-a316-49ca-fef8-bb21bc9ba12c"
      },
      "source": [
        "from gtts import gTTS\n",
        "from IPython.display import Audio\n",
        "tts = gTTS('notebook')\n",
        "tts.save('1.wav')\n",
        "sound_file = '1.wav'\n",
        "Audio(sound_file, autoplay=True)"
      ],
      "execution_count": 5,
      "outputs": [
        {
          "output_type": "execute_result",
          "data": {
            "text/html": [
              "\n",
              "                <audio controls=\"controls\" autoplay=\"autoplay\">\n",
              "                    <source src=\"data:audio/x-wav;base64,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\" type=\"audio/x-wav\" />\n",
              "                    Your browser does not support the audio element.\n",
              "                </audio>\n",
              "              "
            ],
            "text/plain": [
              "<IPython.lib.display.Audio object>"
            ]
          },
          "metadata": {
            "tags": []
          },
          "execution_count": 5
        }
      ]
    }
  ]
}